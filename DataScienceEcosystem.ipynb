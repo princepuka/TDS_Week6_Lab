{
 "cells": [
  {
   "cell_type": "markdown",
   "id": "e43e0d1d",
   "metadata": {},
   "source": [
    "# Data Science Tools and Ecosystem"
   ]
  },
  {
   "cell_type": "markdown",
   "id": "a7645f59",
   "metadata": {},
   "source": [
    "## Author\n",
    "Erik Polzin"
   ]
  },
  {
   "cell_type": "markdown",
   "id": "aeca21e1",
   "metadata": {},
   "source": [
    "## In this notebook, Data Science Tools and Ecosystem are summarized."
   ]
  },
  {
   "cell_type": "markdown",
   "id": "4f1ae87b",
   "metadata": {},
   "source": [
    "**Objectives**\n",
    "1. List Popular Data Science Languages\n",
    "2. List Commonly Used Data Science Libraries\n",
    "3. List Popular Data Science Tools\n",
    "4. Show How to Perform Basic Artithmetic in a Jupyter Notebook"
   ]
  },
  {
   "cell_type": "markdown",
   "id": "b4129a1b",
   "metadata": {},
   "source": [
    "Some of the popular languages that Data Scientists use are:\n",
    "1. Python\n",
    "2. R\n",
    "3. Julia"
   ]
  },
  {
   "cell_type": "markdown",
   "id": "800bbcc5",
   "metadata": {},
   "source": [
    "Some of the commonly used libraries used by Data Scientists include:\n",
    "1. Scikit Learn\n",
    "2. PyTorch\n",
    "3. Tensor Flow"
   ]
  },
  {
   "cell_type": "markdown",
   "id": "aada6011",
   "metadata": {},
   "source": [
    "| Data Science Tools | \n",
    "| --- | \n",
    "| Apache Spark |\n",
    "| Tableau |\n",
    "| SAS |"
   ]
  },
  {
   "cell_type": "markdown",
   "id": "3f458888",
   "metadata": {},
   "source": [
    "### Below area few examples of evaluating arithmetic expressions in Python."
   ]
  },
  {
   "cell_type": "code",
   "execution_count": 1,
   "id": "cfe2a082",
   "metadata": {},
   "outputs": [
    {
     "data": {
      "text/plain": [
       "17"
      ]
     },
     "execution_count": 1,
     "metadata": {},
     "output_type": "execute_result"
    }
   ],
   "source": [
    "# This is a simple arithmetic expression ot multiply then add integers.\n",
    "(3*4)+5"
   ]
  },
  {
   "cell_type": "code",
   "execution_count": 2,
   "id": "ed8d4760",
   "metadata": {},
   "outputs": [
    {
     "name": "stdout",
     "output_type": "stream",
     "text": [
      "3.3333333333333335\n"
     ]
    }
   ],
   "source": [
    "# This cell will convert 200 minutes to hours by dividing by 60\n",
    "minutes = 200\n",
    "m_to_h_conversion_factor = 60\n",
    "\n",
    "hours = minutes / m_to_h_conversion_factor\n",
    "print(hours)"
   ]
  },
  {
   "cell_type": "code",
   "execution_count": null,
   "id": "75e11a7a",
   "metadata": {},
   "outputs": [],
   "source": []
  }
 ],
 "metadata": {
  "kernelspec": {
   "display_name": "Python 3 (ipykernel)",
   "language": "python",
   "name": "python3"
  },
  "language_info": {
   "codemirror_mode": {
    "name": "ipython",
    "version": 3
   },
   "file_extension": ".py",
   "mimetype": "text/x-python",
   "name": "python",
   "nbconvert_exporter": "python",
   "pygments_lexer": "ipython3",
   "version": "3.9.7"
  }
 },
 "nbformat": 4,
 "nbformat_minor": 5
}
